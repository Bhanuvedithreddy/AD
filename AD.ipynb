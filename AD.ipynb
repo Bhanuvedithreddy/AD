{
  "nbformat": 4,
  "nbformat_minor": 0,
  "metadata": {
    "colab": {
      "provenance": [],
      "authorship_tag": "ABX9TyMx7kjSOxKuf+Q/Ks7LFS8f",
      "include_colab_link": true
    },
    "kernelspec": {
      "name": "python3",
      "display_name": "Python 3"
    },
    "language_info": {
      "name": "python"
    }
  },
  "cells": [
    {
      "cell_type": "markdown",
      "metadata": {
        "id": "view-in-github",
        "colab_type": "text"
      },
      "source": [
        "<a href=\"https://colab.research.google.com/github/Bhanuvedithreddy/mlflaskapp/blob/main/AD.ipynb\" target=\"_parent\"><img src=\"https://colab.research.google.com/assets/colab-badge.svg\" alt=\"Open In Colab\"/></a>"
      ]
    },
    {
      "cell_type": "code",
      "execution_count": null,
      "metadata": {
        "colab": {
          "base_uri": "https://localhost:8080/"
        },
        "id": "PRdn0YE5p3M9",
        "outputId": "fe527b65-f014-4830-92f8-db912dfad735"
      },
      "outputs": [
        {
          "output_type": "stream",
          "name": "stdout",
          "text": [
            "   age  height  weight\n",
            "0   25     150      50\n",
            "1   30     160      60\n",
            "2   35     170      70\n",
            "3   40     180      80\n",
            "4   45     190      90\n",
            "\n",
            " Normalized Data frmae (scaled to range[0,1]):\n",
            "    age  height  weight\n",
            "0  0.00    0.00    0.00\n",
            "1  0.25    0.25    0.25\n",
            "2  0.50    0.50    0.50\n",
            "3  0.75    0.75    0.75\n",
            "4  1.00    1.00    1.00\n"
          ]
        }
      ],
      "source": [
        "import pandas as pd\n",
        "from sklearn.preprocessing import MinMaxScaler\n",
        "\n",
        "data ={\n",
        "    \"age\" : [25,30,35,40,45],\n",
        "    \"height\":[150,160,170,180,190],\n",
        "    \"weight\":[50,60,70,80,90]\n",
        "}\n",
        "df = pd.DataFrame(data)\n",
        "print(df)\n",
        "scaler = MinMaxScaler()\n",
        "normalized_data = scaler.fit_transform(df)\n",
        "normalized_df = pd.DataFrame(normalized_data,columns = df.columns)\n",
        "print(\"\\n Normalized Data frmae (scaled to range[0,1]):\")\n",
        "print(normalized_df)"
      ]
    },
    {
      "cell_type": "code",
      "source": [
        "import pandas as pd\n",
        "from sklearn.preprocessing import OneHotEncoder\n",
        "data = {\n",
        "    \"Customer_id\":[1,2,3,4,5],\n",
        "    \"Gender\":[\"Male\",\"Female\",\"Male\",\"Female\",\"Male\"],\n",
        "    \"City\":[\"Hyderbad\",\"Pune\",\"Banglore\",\"Mumbai\",\"Delhi\"],\n",
        "    \"fruits\":[\"Apple\",\"Banana\",\"Mango\",\"Apple\",\"Banana\"]\n",
        "}\n",
        "\n",
        "df = pd.DataFrame(data)\n",
        "print(df)\n",
        "\n",
        "one_hot_encoder = OneHotEncoder(sparse_output=False)\n",
        "columns_of_encode = [\"Gender\",\"City\",\"fruits\"]\n",
        "encoded_data = one_hot_encoder.fit_transform(df[columns_of_encode])\n",
        "encode_colums=one_hot_encoder.get_feature_names_out(columns_of_encode)\n",
        "encoded_df = pd.DataFrame(encoded_data,columns=encode_colums)\n",
        "print(\"\\n Encoded Data Frame:\")\n",
        "print(encoded_df)"
      ],
      "metadata": {
        "id": "xwVSJ7Uap_Ir",
        "colab": {
          "base_uri": "https://localhost:8080/"
        },
        "outputId": "86c774e3-78dc-43b1-b01e-fb2f1d2bacf4"
      },
      "execution_count": null,
      "outputs": [
        {
          "output_type": "stream",
          "name": "stdout",
          "text": [
            "   Customer_id  Gender      City  fruits\n",
            "0            1    Male  Hyderbad   Apple\n",
            "1            2  Female      Pune  Banana\n",
            "2            3    Male  Banglore   Mango\n",
            "3            4  Female    Mumbai   Apple\n",
            "4            5    Male     Delhi  Banana\n",
            "\n",
            " Encoded Data Frame:\n",
            "   Gender_Female  Gender_Male  City_Banglore  City_Delhi  City_Hyderbad  \\\n",
            "0            0.0          1.0            0.0         0.0            1.0   \n",
            "1            1.0          0.0            0.0         0.0            0.0   \n",
            "2            0.0          1.0            1.0         0.0            0.0   \n",
            "3            1.0          0.0            0.0         0.0            0.0   \n",
            "4            0.0          1.0            0.0         1.0            0.0   \n",
            "\n",
            "   City_Mumbai  City_Pune  fruits_Apple  fruits_Banana  fruits_Mango  \n",
            "0          0.0        0.0           1.0            0.0           0.0  \n",
            "1          0.0        1.0           0.0            1.0           0.0  \n",
            "2          0.0        0.0           0.0            0.0           1.0  \n",
            "3          1.0        0.0           1.0            0.0           0.0  \n",
            "4          0.0        0.0           0.0            1.0           0.0  \n"
          ]
        }
      ]
    },
    {
      "cell_type": "code",
      "source": [
        "import pandas as pd\n",
        "from sklearn.preprocessing import LabelEncoder\n",
        "data = {\n",
        "    \"Customer_id\":[1,2,3,4,5],\n",
        "    \"Gender\":[\"Male\",\"Female\",\"Male\",\"Female\",\"Male\"],\n",
        "    \"City\":[\"Hyderbad\",\"Pune\",\"Banglore\",\"Mumbai\",\"Delhi\"],\n",
        "    \"fruits\":[\"Apple\",\"Banana\",\"Mango\",\"Apple\",\"Banana\"]\n",
        "}\n",
        "\n",
        "df = pd.DataFrame(data)\n",
        "print(df)\n",
        "label_encoder = LabelEncoder()\n",
        "df[\"Gender_encoded\"] = label_encoder.fit_transform(df[\"Gender\"])\n",
        "df[\"fruits_encoded\"] = label_encoder.fit_transform(df[\"fruits\"])\n",
        "print(df)\n"
      ],
      "metadata": {
        "colab": {
          "base_uri": "https://localhost:8080/"
        },
        "id": "KF_GIswfuCUY",
        "outputId": "f5a10319-5d91-4fe5-f88b-1a7fa8ca36ca"
      },
      "execution_count": null,
      "outputs": [
        {
          "output_type": "stream",
          "name": "stdout",
          "text": [
            "   Customer_id  Gender      City  fruits\n",
            "0            1    Male  Hyderbad   Apple\n",
            "1            2  Female      Pune  Banana\n",
            "2            3    Male  Banglore   Mango\n",
            "3            4  Female    Mumbai   Apple\n",
            "4            5    Male     Delhi  Banana\n",
            "   Customer_id  Gender      City  fruits  Gender_encoded  fruits_encoded\n",
            "0            1    Male  Hyderbad   Apple               1               0\n",
            "1            2  Female      Pune  Banana               0               1\n",
            "2            3    Male  Banglore   Mango               1               2\n",
            "3            4  Female    Mumbai   Apple               0               0\n",
            "4            5    Male     Delhi  Banana               1               1\n"
          ]
        }
      ]
    },
    {
      "cell_type": "code",
      "source": [],
      "metadata": {
        "id": "cOEEZRVVwxpu"
      },
      "execution_count": null,
      "outputs": []
    }
  ]
}